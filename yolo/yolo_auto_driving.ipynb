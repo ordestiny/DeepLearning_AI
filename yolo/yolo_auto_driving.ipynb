{
 "cells": [
  {
   "cell_type": "code",
   "execution_count": 21,
   "metadata": {
    "collapsed": true
   },
   "outputs": [
    {
     "ename": "SyntaxError",
     "evalue": "invalid syntax (<ipython-input-21-d2210367f58e>, line 15)",
     "traceback": [
      "\u001b[0;36m  File \u001b[0;32m\"<ipython-input-21-d2210367f58e>\"\u001b[0;36m, line \u001b[0;32m15\u001b[0m\n\u001b[0;31m    from deeplearning.yolo.yad2k.\u001b[0m\n\u001b[0m                                 ^\u001b[0m\n\u001b[0;31mSyntaxError\u001b[0m\u001b[0;31m:\u001b[0m invalid syntax\n"
     ],
     "output_type": "error"
    }
   ],
   "source": [
    "import argparse\n",
    "import os\n",
    "import matplotlib.pyplot as plt\n",
    "from matplotlib.pyplot import imshow\n",
    "import scipy.io\n",
    "import scipy.misc\n",
    "import numpy as np\n",
    "import pandas as pd\n",
    "import PIL\n",
    "import tensorflow as tf\n",
    "from keras import backend as K\n",
    "from keras.layers import Input,Lambda,Conv2D\n",
    "from keras.models import load_model,Model\n",
    "from keras.utils.vis_utils import plot_model,model_to_dot\n",
    "from deeplearning.yolo.yad2k.models.keras_yolo import yolo_boxes_to_corners\n",
    "from IPython.display import SVG"
   ]
  },
  {
   "cell_type": "code",
   "execution_count": 3,
   "metadata": {},
   "outputs": [],
   "source": [
    "#  阈值过滤，滤掉一部分box\n",
    "def yolo_filter_boxes(box_confidence, boxes,box_class_probs, threshold = .6):\n",
    "    box_scores = np.multiply(box_confidence,box_class_probs)\n",
    "    box_classes = K.argmax(box_scores)\n",
    "    box_class_scores = K.max(box_scores,axis=-1)\n",
    "    filtering_mask= box_class_scores >= threshold\n",
    "    scores = tf.boolean_mask(box_class_scores,filtering_mask)\n",
    "    boxes  = tf.boolean_mask(boxes,filtering_mask)\n",
    "    classes  = tf.boolean_mask(box_classes,filtering_mask)\n",
    "    return scores,boxes,classes"
   ]
  },
  {
   "cell_type": "code",
   "execution_count": 5,
   "metadata": {},
   "outputs": [
    {
     "name": "stdout",
     "output_type": "stream",
     "text": [
      "10.750582\n[ 8.426533   3.2713668 -0.5313436 -4.9413733]\n7\n(?,)\n(?, 4)\n(?,)\n"
     ]
    }
   ],
   "source": [
    "with tf.Session() as test_a:\n",
    "    box_confidence = tf.random_normal([19,19,5,1],mean=1,stddev=4,seed=1)\n",
    "    boxes = tf.random_normal([19,19,5,4,],mean=1,stddev=4,seed=1)\n",
    "    box_class_probs = tf.random_normal([19,19,5,80],mean=1,stddev=4,seed=1)\n",
    "    scores,boxes,classes = yolo_filter_boxes(box_confidence,boxes,box_class_probs,threshold=0.5)\n",
    "    print(str(scores[2].eval()))\n",
    "    print(str(boxes[2].eval()))\n",
    "    print(str(classes[2].eval()))\n",
    "    print(str(scores.shape))\n",
    "    print(str(boxes.shape))\n",
    "    print(str(classes.shape))"
   ]
  },
  {
   "cell_type": "code",
   "execution_count": 15,
   "metadata": {},
   "outputs": [],
   "source": [
    "# 交并比\n",
    "def iou(box1,box2):\n",
    "    xi1 = np.maximum(box1[0],box2[0])\n",
    "    yi1 = np.maximum(box1[1],box2[1])\n",
    "    xi2 = np.minimum(box1[2],box2[2])\n",
    "    yi2 = np.minimum(box1[3],box2[3])\n",
    "    inter_area = (xi2 - xi1) * (yi2 - yi1)\n",
    "    \n",
    "    box1_area = (box1[2] - box1[0]) * (box1[3] - box1[1])\n",
    "    box2_area = (box2[2] - box2[0]) * (box2[3] - box2[1])\n",
    "    union_area =  box1_area + box2_area - inter_area\n",
    "    iou = inter_area / union_area\n",
    "    return iou"
   ]
  },
  {
   "cell_type": "code",
   "execution_count": 16,
   "metadata": {},
   "outputs": [
    {
     "name": "stdout",
     "output_type": "stream",
     "text": [
      "iou =  0.14285714285714285\n"
     ]
    }
   ],
   "source": [
    "box1 = (2,1,4,3)\n",
    "box2 = (1,2,3,4)\n",
    "\n",
    "print(\"iou = \",str(iou(box1, box2)))"
   ]
  },
  {
   "cell_type": "code",
   "execution_count": 19,
   "metadata": {},
   "outputs": [],
   "source": [
    "# 非最大值抑制\n",
    "def yolo_non_max_suppression(scores,boxes,classes,max_boxes = 10,iou_threshold = 0.5):\n",
    "    max_boxes_tensor = K.variable(max_boxes,dtype=\"int32\")\n",
    "    K.get_session().run(tf.variables_initializer([max_boxes_tensor]))\n",
    "    \n",
    "    nms_indices = tf.image.non_max_suppression(boxes,scores,max_boxes,iou_threshold)\n",
    "    scores = K.gather(scores,nms_indices)\n",
    "    boxes = K.gather(boxes,nms_indices)\n",
    "    classes = K.gather(classes,nms_indices)\n",
    "    \n",
    "    return scores,boxes,classes"
   ]
  },
  {
   "cell_type": "code",
   "execution_count": 20,
   "metadata": {},
   "outputs": [
    {
     "name": "stdout",
     "output_type": "stream",
     "text": [
      "6.938395\n[-5.299932    3.1379814   4.450367    0.95942086]\n-2.2452729\n(?,)\n(?, 4)\n(?,)\n"
     ]
    }
   ],
   "source": [
    "with tf.Session() as test_b:\n",
    "    scores = tf.random_normal([54,],mean=1,stddev=4,seed=1)\n",
    "    boxes = tf.random_normal([54,4,],mean=1,stddev=4,seed=1)\n",
    "    classes = tf.random_normal([54,],mean=1,stddev=4,seed=1)\n",
    "    scores,boxes,classes = yolo_non_max_suppression(scores,boxes,classes)\n",
    "    print(str(scores[2].eval()))\n",
    "    print(str(boxes[2].eval()))\n",
    "    print(str(classes[2].eval()))\n",
    "    print(str(scores.shape))\n",
    "    print(str(boxes.shape))\n",
    "    print(str(classes.shape))"
   ]
  },
  {
   "cell_type": "code",
   "execution_count": null,
   "metadata": {},
   "outputs": [],
   "source": [
    "def yolo_eval(yolo_outputs,image_shape = (720.,1280.),max_boxes = 10,score_threshold = .6,iou_threshold = .5):\n",
    "    box_confidence,box_xy,box_wh,box_class_probs = yolo_outputs\n",
    "    boxes  = yolo_boxes_to_corners(box_xy,box_wh)\n",
    "    scores,boxes,classes = yolo_filter_boxes(box_confidence,boxes,box_class_probs,score_threshold)\n",
    "    boxes = scale_boxes(boxes,image_shape)\n",
    "    scores,boxes,classes = yolo_non_max_suppression(scores,boxes,classes,max_boxes,iou_threshold)\n",
    "    return scores,boxes,classes"
   ]
  }
 ],
 "metadata": {
  "kernelspec": {
   "display_name": "Python 2",
   "language": "python",
   "name": "python2"
  },
  "language_info": {
   "codemirror_mode": {
    "name": "ipython",
    "version": 2
   },
   "file_extension": ".py",
   "mimetype": "text/x-python",
   "name": "python",
   "nbconvert_exporter": "python",
   "pygments_lexer": "ipython2",
   "version": "2.7.6"
  }
 },
 "nbformat": 4,
 "nbformat_minor": 0
}
